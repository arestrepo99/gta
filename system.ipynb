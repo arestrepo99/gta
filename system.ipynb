{
 "cells": [
  {
   "cell_type": "code",
   "execution_count": null,
   "metadata": {},
   "outputs": [],
   "source": [
    "import numpy as np\n",
    "import matplitlib\n",
    "# Test the suspesion system before \n",
    "\n",
    "\n",
    "# Two masses connected by a spring\n",
    "\n",
    "class Mass:\n",
    "    \n",
    "    def __init__(m):\n",
    "        self.m = m\n",
    "\n",
    "        self.pos = (0,0,0)\n",
    "        self.vel = (0,0,0)\n",
    "        self.acc = (0,0,0)\n",
    "\n",
    "    def apply_force(f):\n",
    "        self.acc = f/self.m\n",
    "    \n",
    "    def step(dt):\n",
    "        self.vel += self.acc*dt\n",
    "        self.pos += self.vel*dt\n",
    "        self.acc = (0,0,0)\n",
    "\n",
    "\n",
    "class Spring:\n",
    "\n",
    "    def __init__(k, damp, obj1, obj2):\n",
    "        self.k = k\n",
    "        self.damp = damp\n",
    "        self.obj1 = obj1\n",
    "        self.obj2 = obj2\n",
    "    \n",
    "    def apply_force(f1, f2):\n",
    "        self.obj1.apply_force(f1)\n",
    "        self.obj2.apply_force(f2)\n",
    "    \n",
    "    def step(dt):\n",
    "        f1 = self.k*(self.obj2.pos - self.obj1.pos)\n",
    "        f2 = -f1\n",
    "        self.apply_force(f1, f2)\n",
    "        self.obj1.step(dt)\n",
    "        self.obj2.step(dt)\n"
   ]
  }
 ],
 "metadata": {
  "language_info": {
   "name": "python"
  },
  "orig_nbformat": 4
 },
 "nbformat": 4,
 "nbformat_minor": 2
}
